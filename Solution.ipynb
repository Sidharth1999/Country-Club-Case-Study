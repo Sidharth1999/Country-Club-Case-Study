{
 "cells": [
  {
   "cell_type": "code",
   "execution_count": 1,
   "metadata": {},
   "outputs": [],
   "source": [
    "#Imports\n",
    "from sqlalchemy import create_engine\n",
    "import pandas as pd"
   ]
  },
  {
   "cell_type": "code",
   "execution_count": 2,
   "metadata": {},
   "outputs": [],
   "source": [
    "#Setup connection to DB\n",
    "engine = create_engine('sqlite:///sqlite_db_pythonsqlite.db')"
   ]
  },
  {
   "cell_type": "code",
   "execution_count": 3,
   "metadata": {},
   "outputs": [
    {
     "name": "stdout",
     "output_type": "stream",
     "text": [
      "['Bookings', 'Facilities', 'Members']\n"
     ]
    }
   ],
   "source": [
    "#Print table names to verify connection\n",
    "print(engine.table_names())"
   ]
  },
  {
   "cell_type": "code",
   "execution_count": 4,
   "metadata": {},
   "outputs": [],
   "source": [
    "#Connect to engine\n",
    "con = engine.connect()"
   ]
  },
  {
   "cell_type": "code",
   "execution_count": 5,
   "metadata": {},
   "outputs": [
    {
     "name": "stdout",
     "output_type": "stream",
     "text": [
      "            name  revenue\n",
      "0   Table Tennis      180\n",
      "1  Snooker Table      240\n",
      "2     Pool Table      270\n"
     ]
    }
   ],
   "source": [
    "'''Q10: Produce a list of facilities with a total revenue less than 1000.\n",
    "The output of facility name and total revenue, sorted by revenue. Remember\n",
    "that there's a different cost for guests and members!'''\n",
    "query = \"\"\"\n",
    "    SELECT f.name, SUM(CASE WHEN b.memid = 0 THEN f.guestcost * b.slots ELSE f.membercost * b.slots END) AS revenue  \n",
    "    FROM `Facilities` AS f\n",
    "    INNER JOIN `Bookings` AS b\n",
    "    USING(facid)\n",
    "    GROUP BY f.name \n",
    "    HAVING revenue < 1000\n",
    "    ORDER BY revenue\n",
    "\"\"\"\n",
    "rs = con.execute(query)\n",
    "df = pd.DataFrame(rs.fetchall())\n",
    "df.columns = rs.keys()\n",
    "print(df)"
   ]
  },
  {
   "cell_type": "code",
   "execution_count": 6,
   "metadata": {},
   "outputs": [
    {
     "name": "stdout",
     "output_type": "stream",
     "text": [
      "                     member        recommender\n",
      "0            Florence Bader    Ponder Stibbons\n",
      "1                Anne Baker    Ponder Stibbons\n",
      "2             Timothy Baker     Jemima Farrell\n",
      "3                Tim Boothe         Tim Rownam\n",
      "4            Gerald Butters       Darren Smith\n",
      "5               Joan Coplin      Timothy Baker\n",
      "6             Erica Crumpet        Tracy Smith\n",
      "7                Nancy Dare    Janice Joplette\n",
      "8           Matthew Genting     Gerald Butters\n",
      "9                 John Hunt  Millicent Purview\n",
      "10              David Jones    Janice Joplette\n",
      "11            Douglas Jones        David Jones\n",
      "12          Janice Joplette       Darren Smith\n",
      "13           Anna Mackenzie       Darren Smith\n",
      "14             Charles Owen       Darren Smith\n",
      "15             David Pinker     Jemima Farrell\n",
      "16        Millicent Purview        Tracy Smith\n",
      "17         Henrietta Rumney    Matthew Genting\n",
      "18         Ramnaresh Sarwin     Florence Bader\n",
      "19               Jack Smith       Darren Smith\n",
      "20          Ponder Stibbons       Burton Tracy\n",
      "21  Henry Worthington-Smyth        Tracy Smith\n"
     ]
    }
   ],
   "source": [
    "'''Q11: Produce a report of members and who recommended them in alphabetic surname,firstname order'''\n",
    "query = \"\"\"\n",
    "    SELECT DISTINCT m.firstname || ' ' || m.surname AS member, r.firstname || ' ' || r.surname AS recommender\n",
    "    FROM `Members` AS m\n",
    "    INNER JOIN `Members` as r\n",
    "    ON m.recommendedby = r.memid\n",
    "    ORDER BY m.surname, m.firstname\n",
    "\"\"\"\n",
    "rs = con.execute(query)\n",
    "df = pd.DataFrame(rs.fetchall())\n",
    "df.columns = rs.keys()\n",
    "print(df)"
   ]
  },
  {
   "cell_type": "code",
   "execution_count": 7,
   "metadata": {},
   "outputs": [
    {
     "name": "stdout",
     "output_type": "stream",
     "text": [
      "            member         facility  utilization\n",
      "0     Darren Smith  Badminton Court          132\n",
      "1     Darren Smith   Massage Room 1           28\n",
      "2     Darren Smith       Pool Table           28\n",
      "3     Darren Smith    Snooker Table           12\n",
      "4     Darren Smith     Squash Court           14\n",
      "..             ...              ...          ...\n",
      "197      John Hunt   Tennis Court 2            4\n",
      "198  Erica Crumpet  Badminton Court            2\n",
      "199  Erica Crumpet   Massage Room 1            2\n",
      "200  Erica Crumpet     Table Tennis            2\n",
      "201  Erica Crumpet   Tennis Court 1            1\n",
      "\n",
      "[202 rows x 3 columns]\n"
     ]
    }
   ],
   "source": [
    "'''Q12: Find the facilities with their usage by member, but not guests'''\n",
    "query = \"\"\"\n",
    "    SELECT firstname || ' ' || surname AS member, name AS facility, COUNT(facid) AS utilization\n",
    "    FROM `Bookings` AS b\n",
    "    INNER JOIN `Members` as m\n",
    "    USING (memid)\n",
    "    INNER JOIN `Facilities` as f\n",
    "    USING (facid)\n",
    "    WHERE memid != 0\n",
    "    GROUP BY memid, facility\n",
    "\"\"\"\n",
    "rs = con.execute(query)\n",
    "df = pd.DataFrame(rs.fetchall())\n",
    "df.columns = rs.keys()\n",
    "print(df)"
   ]
  },
  {
   "cell_type": "code",
   "execution_count": 8,
   "metadata": {},
   "outputs": [
    {
     "name": "stdout",
     "output_type": "stream",
     "text": [
      "   month         facility  utilization\n",
      "0     07  Badminton Court           51\n",
      "1     07   Massage Room 1           77\n",
      "2     07   Massage Room 2            4\n",
      "3     07       Pool Table          103\n",
      "4     07    Snooker Table           68\n",
      "5     07     Squash Court           23\n",
      "6     07     Table Tennis           48\n",
      "7     07   Tennis Court 1           65\n",
      "8     07   Tennis Court 2           41\n",
      "9     08  Badminton Court          132\n",
      "10    08   Massage Room 1          153\n",
      "11    08   Massage Room 2            9\n",
      "12    08       Pool Table          272\n",
      "13    08    Snooker Table          154\n",
      "14    08     Squash Court           85\n",
      "15    08     Table Tennis          143\n",
      "16    08   Tennis Court 1          111\n",
      "17    08   Tennis Court 2          109\n",
      "18    09  Badminton Court          161\n",
      "19    09   Massage Room 1          191\n",
      "20    09   Massage Room 2           14\n",
      "21    09       Pool Table          408\n",
      "22    09    Snooker Table          199\n",
      "23    09     Squash Court           87\n",
      "24    09     Table Tennis          194\n",
      "25    09   Tennis Court 1          132\n",
      "26    09   Tennis Court 2          126\n"
     ]
    }
   ],
   "source": [
    "'''Q13: Find the facilities usage by month, but not guests'''\n",
    "query = \"\"\"\n",
    "    SELECT strftime('%m', starttime) AS month, name AS facility, COUNT(facid) AS utilization\n",
    "    FROM `Bookings` AS b\n",
    "    INNER JOIN `Facilities` as f\n",
    "    USING (facid)\n",
    "    WHERE memid != 0\n",
    "    GROUP BY month, facility\n",
    "\"\"\"\n",
    "rs = con.execute(query)\n",
    "df = pd.DataFrame(rs.fetchall())\n",
    "df.columns = rs.keys()\n",
    "print(df)"
   ]
  },
  {
   "cell_type": "code",
   "execution_count": 9,
   "metadata": {},
   "outputs": [],
   "source": [
    "#Close engine connection\n",
    "con.close()"
   ]
  }
 ],
 "metadata": {
  "kernelspec": {
   "display_name": "Python 3",
   "language": "python",
   "name": "python3"
  },
  "language_info": {
   "codemirror_mode": {
    "name": "ipython",
    "version": 3
   },
   "file_extension": ".py",
   "mimetype": "text/x-python",
   "name": "python",
   "nbconvert_exporter": "python",
   "pygments_lexer": "ipython3",
   "version": "3.7.1"
  }
 },
 "nbformat": 4,
 "nbformat_minor": 4
}
